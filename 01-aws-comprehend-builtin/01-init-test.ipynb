{
 "cells": [
  {
   "cell_type": "markdown",
   "id": "69b2071d-31d9-4094-beff-2819ffc8b197",
   "metadata": {},
   "source": [
    "# Test `eval-tab.py` and `comprehend.py`"
   ]
  },
  {
   "cell_type": "markdown",
   "id": "c724e1ec-fdf9-457d-9f61-a86584802828",
   "metadata": {
    "tags": []
   },
   "source": [
    "## 1. `eval-tab.py`"
   ]
  },
  {
   "cell_type": "code",
   "execution_count": 1,
   "id": "0593aa6b-3caa-41c6-9471-86b78651986a",
   "metadata": {},
   "outputs": [],
   "source": [
    "import json"
   ]
  },
  {
   "cell_type": "code",
   "execution_count": 12,
   "id": "35c43aec-9c90-4928-86c5-804cf053433d",
   "metadata": {},
   "outputs": [],
   "source": [
    "fd = open(\"../data/sample_masked_output_file.json\")\n",
    "masked_output_docs = json.load(fd)\n",
    "fd.close()"
   ]
  },
  {
   "cell_type": "code",
   "execution_count": 14,
   "id": "139c6083-34be-4301-91d1-97d9e9d25979",
   "metadata": {},
   "outputs": [
    {
     "name": "stdout",
     "output_type": "stream",
     "text": [
      "Reading annotated corpus with 127 documents\n",
      "=========\n",
      "Mention: 36110/97 (doc_id 001-61807, span [54-62])\n",
      "Context: inated in an application (no. 36110/97) against the Republic of Turk\n",
      "=============\n",
      "Mention: Mr Galip Yalman (doc_id 001-61807, span [314-329])\n",
      "Context: ”) by four Turkish nationals, Mr Galip Yalman, Mr Bahattin Sarısoy, Mr Osma\n",
      "=============\n",
      "Mention: Mr Bahattin Sarısoy (doc_id 001-61807, span [331-350])\n",
      "Context: h nationals, Mr Galip Yalman, Mr Bahattin Sarısoy, Mr Osman Çağlayan and Mr Yus\n",
      "=============\n",
      "Mention: Mr Osman Çağlayan (doc_id 001-61807, span [352-369])\n",
      "Context:  Yalman, Mr Bahattin Sarısoy, Mr Osman Çağlayan and Mr Yusuf Çamca (“the appl\n",
      "=============\n",
      "Mention: Mr Yusuf Çamca (doc_id 001-61807, span [374-388])\n",
      "Context: arısoy, Mr Osman Çağlayan and Mr Yusuf Çamca (“the applicants”), on 29 Nov\n",
      "=============\n",
      "Mention: 29 November 1996 (doc_id 001-61807, span [412-428])\n",
      "Context:  Çamca (“the applicants”), on 29 November 1996. The applicants were represe\n",
      "=============\n",
      "Mention: Mr S. Esmer (doc_id 001-61807, span [466-477])\n",
      "Context: pplicants were represented by Mr S. Esmer, a lawyer practising in Ankar\n",
      "=============\n",
      "Mention: 1989 (doc_id 001-61807, span [711-715])\n",
      "Context: heir case, which commenced in 1989 and terminated in 1996, was n\n",
      "=============\n",
      "Mention: 1996 (doc_id 001-61807, span [734-738])\n",
      "Context: ced in 1989 and terminated in 1996, was not heard within a reaso\n",
      "=============\n",
      "Mention: 15 May 2003 (doc_id 001-61807, span [1388-1399])\n",
      "Context: le 52 § 1). By a decision of 15 May 2003, the Court declared the appli\n",
      "=============\n",
      "Mention: September 1980 (doc_id 001-61807, span [1551-1565])\n",
      "Context: (Rule 59 § 1). THE FACTS In September 1980 the applicants were taken int\n",
      "=============\n",
      "Mention: Erzincan Military Public Prosecutor (doc_id 001-61807, span [1723-1758])\n",
      "Context:  an illegal organisation. The Erzincan Military Public Prosecutor filed a bill of indictment wi\n",
      "=============\n",
      "Mention: Erzincan Martial Law Court (sıkıyönetim askeri mahkemesi) (doc_id 001-61807, span [1795-1852])\n",
      "Context: a bill of indictment with the Erzincan Martial Law Court (sıkıyönetim askeri mahkemesi) charging the applicants under\n",
      "=============\n",
      "Mention: Erzincan Martial Law Court (doc_id 001-61807, span [2125-2151])\n",
      "Context: al. On 13 September 1988 the Erzincan Martial Law Court acquitted the applicants of t\n",
      "=============\n",
      "Mention: between 1982 and 1984 (doc_id 001-61807, span [2033-2054])\n",
      "Context: onal order. On various dates between 1982 and 1984 the applicants were released \n",
      "=============\n",
      "Mention: 13 September 1988 (doc_id 001-61807, span [2103-2120])\n",
      "Context: e released pending trial. On 13 September 1988 the Erzincan Martial Law Cour\n",
      "=============\n",
      "Mention: June 1989 (doc_id 001-61807, span [2244-2253])\n",
      "Context: ous dates in March, April and June 1989 the applicants brought indivi\n",
      "=============\n",
      "Mention: Sinop Assize Court (doc_id 001-61807, span [2307-2325])\n",
      "Context: individual actions before the Sinop Assize Court against the Treasury, pursuan\n",
      "=============\n",
      "Mention: Sinop Assize Court (doc_id 001-61807, span [2538-2556])\n",
      "Context: ses. On 15 December 1993 the Sinop Assize Court awarded non‑pecuniary compens\n",
      "=============\n",
      "Mention: Sinop Assize Court (doc_id 001-61807, span [2817-2835])\n",
      "Context: ce court. On 6 June 1995 the Sinop Assize Court increased the amount of non‑p\n",
      "=============\n",
      "Mention: 20 October 1989 (doc_id 001-61807, span [2448-2463])\n",
      "Context: fied detention on remand. On 20 October 1989 the court decided to join the\n",
      "=============\n",
      "Mention: 15 December 1993 (doc_id 001-61807, span [2517-2533])\n",
      "Context: in the applicants’ cases. On 15 December 1993 the Sinop Assize Court awarde\n",
      "=============\n",
      "Mention: 31 January 1995 (doc_id 001-61807, span [2708-2723])\n",
      "Context: arded was not sufficient. On 31 January 1995 the Court of Cassation quashe\n",
      "=============\n",
      "Mention: 6 June 1995 (doc_id 001-61807, span [2801-2812])\n",
      "Context: the first instance court. On 6 June 1995 the Sinop Assize Court increa\n",
      "=============\n",
      "Mention: 15 June 1995 (doc_id 001-61807, span [2892-2904])\n",
      "Context: n‑pecuniary compensation. On 15 June 1995 the applicants again appealed\n",
      "=============\n",
      "Mention: 30 May 1996 (doc_id 001-61807, span [2940-2951])\n",
      "Context: pplicants again appealed. On 30 May 1996 the Court of Cassation dismis\n",
      "=============\n",
      "Computing evaluation metrics for ../data/sample_masked_output_file.json (1 documents)\n",
      "100%|████████████████████████████████████████████| 1/1 [00:00<00:00, 803.04it/s]\n",
      "100%|███████████████████████████████████████████| 1/1 [00:00<00:00, 6316.72it/s]\n",
      "==> Token-level recall on all identifiers: 0.090\n",
      "==> Token-level recall on all identifiers, factored by type:\n",
      "\tCODE:0.000\n",
      "\tPERSON:0.333\n",
      "\tDATETIME:0.054\n",
      "\tORG:0.000\n",
      "==> Mention-level recall on all identifiers: 0.000\n",
      "==> Entity-level recall on direct identifiers: 0.000\n",
      "==> Entity-level recall on quasi identifiers: 0.000\n",
      "==> Uniform token-level precision on all identifiers: 0.000\n",
      "==> Uniform mention-level precision on all identifiers: 0.000\n"
     ]
    }
   ],
   "source": [
    "!python3 eval-tab.py ../data/echr_test.json ../data/sample_masked_output_file.json --verbose"
   ]
  },
  {
   "cell_type": "code",
   "execution_count": 2,
   "id": "9146d9b0-b974-4330-a73e-046c70cf8d9a",
   "metadata": {},
   "outputs": [
    {
     "name": "stdout",
     "output_type": "stream",
     "text": [
      "Reading annotated corpus with 127 documents\n",
      "=========\n",
      "Computing evaluation metrics for ../data/sample_masked_output_file.json (1 documents)\n",
      "100%|████████████████████████████████████████████| 1/1 [00:00<00:00, 810.65it/s]\n",
      "100%|███████████████████████████████████████████| 1/1 [00:00<00:00, 5991.86it/s]\n",
      "==> Token-level recall on all identifiers: 0.090\n",
      "==> Token-level recall on all identifiers, factored by type:\n",
      "\tCODE:0.000\n",
      "\tPERSON:0.333\n",
      "\tDATETIME:0.054\n",
      "\tORG:0.000\n",
      "==> Mention-level recall on all identifiers: 0.000\n",
      "==> Entity-level recall on direct identifiers: 0.000\n",
      "==> Entity-level recall on quasi identifiers: 0.000\n",
      "==> Uniform token-level precision on all identifiers: 0.000\n",
      "==> Uniform mention-level precision on all identifiers: 0.000\n",
      "CPU times: user 2.15 s, sys: 434 ms, total: 2.59 s\n",
      "Wall time: 44.9 s\n"
     ]
    }
   ],
   "source": [
    "%%time\n",
    "!python3 eval-tab.py ../data/echr_test.json ../data/sample_masked_output_file.json"
   ]
  },
  {
   "cell_type": "markdown",
   "id": "ef944956-0371-4703-8bff-f04fc0338278",
   "metadata": {
    "tags": []
   },
   "source": [
    "## 2. Comprehend"
   ]
  },
  {
   "cell_type": "code",
   "execution_count": 3,
   "id": "ec37a786-4a45-4d55-8baf-880a42b7a15b",
   "metadata": {},
   "outputs": [],
   "source": [
    "from comprehend import *"
   ]
  },
  {
   "cell_type": "code",
   "execution_count": 8,
   "id": "b0381322-6fa2-44a2-a61c-56a0a68987f0",
   "metadata": {},
   "outputs": [
    {
     "name": "stderr",
     "output_type": "stream",
     "text": [
      "INFO: Found credentials in shared credentials file: ~/.aws/credentials\n"
     ]
    }
   ],
   "source": [
    "demo_size = 3\n",
    "logging.basicConfig(level=logging.INFO, format='%(levelname)s: %(message)s')\n",
    "\n",
    "session = boto3.Session(profile_name='saml')\n",
    "comp_client = session.client('comprehend')\n",
    "comp_detect = ComprehendDetect(comp_client)"
   ]
  },
  {
   "cell_type": "code",
   "execution_count": 5,
   "id": "c84b3e93-d7cf-4597-a40a-bb816fe35d8a",
   "metadata": {},
   "outputs": [],
   "source": [
    "sample_text = \"\"\"Managing Your Accounts Primary Branch Canton John Doe Phone Number 443-573-4800 123 Main StreetBaltimore, MD 21224\n",
    "Online Banking HowardBank.com  Telephone 1-877-527-2703 Bank 3301 Boston Street, Baltimore, MD 21224\"\"\""
   ]
  },
  {
   "cell_type": "code",
   "execution_count": 6,
   "id": "372c796a-a516-4abe-9e30-ccd1cf978f3c",
   "metadata": {},
   "outputs": [],
   "source": [
    "LANG_CODE = \"en\""
   ]
  },
  {
   "cell_type": "code",
   "execution_count": 9,
   "id": "919d42a5-b9e8-4ed3-9b4b-33468711e1e6",
   "metadata": {},
   "outputs": [
    {
     "name": "stdout",
     "output_type": "stream",
     "text": [
      "Detecting entities.\n"
     ]
    },
    {
     "name": "stderr",
     "output_type": "stream",
     "text": [
      "INFO: Detected 7 PII entities.\n"
     ]
    }
   ],
   "source": [
    "print(\"Detecting entities.\")\n",
    "entities = comp_detect.detect_pii(sample_text, LANG_CODE)"
   ]
  },
  {
   "cell_type": "code",
   "execution_count": 10,
   "id": "9be8930b-d699-4d65-aa58-3945eee4b8c1",
   "metadata": {},
   "outputs": [
    {
     "data": {
      "text/plain": [
       "[{'Score': 0.607958197593689,\n",
       "  'Type': 'ADDRESS',\n",
       "  'BeginOffset': 38,\n",
       "  'EndOffset': 44},\n",
       " {'Score': 0.9409217238426208,\n",
       "  'Type': 'NAME',\n",
       "  'BeginOffset': 45,\n",
       "  'EndOffset': 53},\n",
       " {'Score': 0.9999706745147705,\n",
       "  'Type': 'PHONE',\n",
       "  'BeginOffset': 67,\n",
       "  'EndOffset': 79},\n",
       " {'Score': 0.9998384118080139,\n",
       "  'Type': 'ADDRESS',\n",
       "  'BeginOffset': 80,\n",
       "  'EndOffset': 114},\n",
       " {'Score': 0.9999561309814453,\n",
       "  'Type': 'URL',\n",
       "  'BeginOffset': 130,\n",
       "  'EndOffset': 144},\n",
       " {'Score': 0.9999831914901733,\n",
       "  'Type': 'PHONE',\n",
       "  'BeginOffset': 156,\n",
       "  'EndOffset': 170},\n",
       " {'Score': 0.9999755024909973,\n",
       "  'Type': 'ADDRESS',\n",
       "  'BeginOffset': 176,\n",
       "  'EndOffset': 215}]"
      ]
     },
     "execution_count": 10,
     "metadata": {},
     "output_type": "execute_result"
    }
   ],
   "source": [
    "entities"
   ]
  },
  {
   "cell_type": "code",
   "execution_count": 17,
   "id": "165e5937-b433-44a6-8e47-747676247f7f",
   "metadata": {},
   "outputs": [],
   "source": [
    "import json\n",
    "\n",
    "with open(\"results/02_sample_results.json\", \"w\") as _f:\n",
    "    json.dump({\"sample_text_doc_id\": entities}, _f)"
   ]
  },
  {
   "cell_type": "code",
   "execution_count": null,
   "id": "98a1e5cf-4451-4bc6-bf75-88989f407644",
   "metadata": {},
   "outputs": [],
   "source": []
  }
 ],
 "metadata": {
  "kernelspec": {
   "display_name": ".venv",
   "language": "python",
   "name": ".venv"
  },
  "language_info": {
   "codemirror_mode": {
    "name": "ipython",
    "version": 3
   },
   "file_extension": ".py",
   "mimetype": "text/x-python",
   "name": "python",
   "nbconvert_exporter": "python",
   "pygments_lexer": "ipython3",
   "version": "3.8.10"
  }
 },
 "nbformat": 4,
 "nbformat_minor": 5
}
