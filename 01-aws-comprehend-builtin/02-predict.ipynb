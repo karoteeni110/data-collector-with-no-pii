{
 "cells": [
  {
   "cell_type": "markdown",
   "id": "0bf054f3-b288-4bfb-a7a0-632356beed6d",
   "metadata": {},
   "source": [
    "# Get Comprehend prediction on TAB test  "
   ]
  },
  {
   "cell_type": "markdown",
   "id": "693057d2-62d1-463d-8d16-a3cd17d8e8fe",
   "metadata": {},
   "source": [
    "## Read test data"
   ]
  },
  {
   "cell_type": "code",
   "execution_count": 1,
   "id": "bab0dd89-1ed8-4720-9f03-bc7c527b1c7d",
   "metadata": {},
   "outputs": [],
   "source": [
    "import json\n",
    "\n",
    "test_json = open(\"../data/echr_test.json\", \"r\")\n",
    "X_test = json.load(test_json)\n",
    "test_json.close()"
   ]
  },
  {
   "cell_type": "code",
   "execution_count": 2,
   "id": "2354576d-24a9-4f73-afce-a1e3f2134b5e",
   "metadata": {},
   "outputs": [
    {
     "name": "stdout",
     "output_type": "stream",
     "text": [
      "PROCEDURE\n",
      "\n",
      "The case originated in an application (no. 36110/97) against the Republic of Turkey lodged with the European Commission of Human Rights (“the Commission”) under former Article 25 of the Convention for the Protection of Human Rights and Fundamental Freedoms (“the Convention”) by four Turkish nationals, Mr Galip Yalman, Mr Bahattin Sarısoy, Mr Osman Çağlayan and Mr Yusuf Çamca (“the applicants”), on 29 November 1996.\n",
      "\n",
      "The applicants were represented by Mr S. Esmer, a lawyer practising in Ankara. The Turkish Government (“the Government”) did not designate an Agent for the purposes of the proceedings before the Convention institutions.\n",
      "\n",
      "The applicants alleged that their case, which commenced in 1989 and terminated in 1996, was not heard within a reasonable time as required by the Convention.\n",
      "\n",
      "The application was transmitted to the Court on 1 November 1998, when Protocol No. 11 to the Convention came into force (Article 5 § 2 of Protocol No. 11).\n",
      "\n",
      "The application was allocated to the Second Section of the Court (Rule 52 § 1 of the Rules of Court). Within that Section, the Chamber that would consider the case (Article 27 § 1 of the Convention) was constituted as provided in Rule 26 § 1.\n",
      "\n",
      "On 1 November 2001 the Court changed the composition of its Sections (Rule 25 § 1). This case was assigned to the newly composed First Section (Rule 52 § 1).\n",
      "\n",
      "By a decision of 15 May 2003, the Court declared the application admissible.\n",
      "\n",
      "The applicants and the Government each filed observations on the merits (Rule 59 § 1).\n",
      "\n",
      "THE FACTS\n",
      "\n",
      "In September 1980 the applicants were taken into police custody and were subsequently placed in detention on remand on suspicion of membership of an illegal organisation. The Erzincan Military Public Prosecutor filed a bill of indictment with the Erzincan Martial Law Court (sıkıyönetim askeri mahkemesi) charging the applicants under Article 146 of the Criminal Code with membership of an illegal organisation whose object was to undermine the constitutional order.\n",
      "\n",
      "On various dates between 1982 and 1984 the applicants were released pending trial.\n",
      "\n",
      "On 13 September 1988 the Erzincan Martial Law Court acquitted the applicants of the charges against them.\n",
      "\n",
      "On various dates in March, April and June 1989 the applicants brought individual actions before the Sinop Assize Court against the Treasury, pursuant to Law no. 466. They requested compensation for their unjustified detention on remand.\n",
      "\n",
      "On 20 October 1989 the court decided to join the applicants’ cases.\n",
      "\n",
      "On 15 December 1993 the Sinop Assize Court awarded non‑pecuniary compensation to the applicants. The applicants appealed, arguing that the amount of compensation awarded was not sufficient.\n",
      "\n",
      "On 31 January 1995 the Court of Cassation quashed the judgment of the first instance court.\n",
      "\n",
      "On 6 June 1995 the Sinop Assize Court increased the amount of non‑pecuniary compensation.\n",
      "\n",
      "On 15 June 1995 the applicants again appealed.\n",
      "\n",
      "On 30 May 1996 the Court of Cassation dismissed the applicants’ appeal and upheld the judgment of the assize court.\n"
     ]
    }
   ],
   "source": [
    "print(X_test[0]['text'])"
   ]
  },
  {
   "cell_type": "code",
   "execution_count": 3,
   "id": "9fdc90fb-a2dd-4c50-9574-b992731f492d",
   "metadata": {},
   "outputs": [
    {
     "name": "stdout",
     "output_type": "stream",
     "text": [
      "001-61807\n"
     ]
    }
   ],
   "source": [
    "print(X_test[0][\"doc_id\"])"
   ]
  },
  {
   "cell_type": "markdown",
   "id": "bb6ad366-44a8-434c-9a2b-90771414e0ef",
   "metadata": {
    "tags": []
   },
   "source": [
    "## Load model"
   ]
  },
  {
   "cell_type": "code",
   "execution_count": 4,
   "id": "2428c9ef-5878-49e3-a86d-24cc1b57922c",
   "metadata": {},
   "outputs": [],
   "source": [
    "from comprehend import *"
   ]
  },
  {
   "cell_type": "code",
   "execution_count": 5,
   "id": "a29422a9-6081-4158-a72e-9eff672f268c",
   "metadata": {},
   "outputs": [
    {
     "name": "stderr",
     "output_type": "stream",
     "text": [
      "INFO: Found credentials in shared credentials file: ~/.aws/credentials\n"
     ]
    }
   ],
   "source": [
    "logging.basicConfig(level=logging.INFO, format='%(levelname)s: %(message)s')\n",
    "\n",
    "session = boto3.Session(profile_name='saml')\n",
    "comp_client = session.client('comprehend')\n",
    "comp_detect = ComprehendDetect(comp_client)"
   ]
  },
  {
   "cell_type": "markdown",
   "id": "132f137c-9234-41c0-8809-a6cb0d3e3000",
   "metadata": {},
   "source": [
    "## Predict & Save results\n",
    "\n",
    "To use eval-tab.py, refers to `data/sample_masked_output_file.json` for the output format:\n",
    "\n",
    "```json\n",
    "{\n",
    "\t\"001-61807\": [[1, 2], [3, 4]] \n",
    "}\n",
    "```\n",
    "\n",
    "    # doc_id : [[beginOffset, endOffset], [beginOffset, endOffset]]"
   ]
  },
  {
   "cell_type": "code",
   "execution_count": 6,
   "id": "2accb4c1-6f17-4834-9bf0-99763d107312",
   "metadata": {},
   "outputs": [
    {
     "name": "stderr",
     "output_type": "stream",
     "text": [
      "INFO: Detected 24 PII entities.\n",
      "INFO: Detected 50 PII entities.\n",
      "INFO: Detected 15 PII entities.\n",
      "INFO: Detected 23 PII entities.\n",
      "INFO: Detected 41 PII entities.\n",
      "INFO: Detected 21 PII entities.\n",
      "INFO: Detected 27 PII entities.\n",
      "INFO: Detected 19 PII entities.\n",
      "INFO: Detected 37 PII entities.\n",
      "INFO: Detected 74 PII entities.\n",
      "INFO: Detected 19 PII entities.\n",
      "INFO: Detected 62 PII entities.\n",
      "INFO: Detected 13 PII entities.\n",
      "INFO: Detected 63 PII entities.\n",
      "INFO: Detected 39 PII entities.\n",
      "INFO: Detected 22 PII entities.\n",
      "INFO: Detected 23 PII entities.\n",
      "INFO: Detected 18 PII entities.\n",
      "INFO: Detected 31 PII entities.\n",
      "INFO: Detected 23 PII entities.\n",
      "INFO: Detected 34 PII entities.\n",
      "INFO: Detected 27 PII entities.\n",
      "INFO: Detected 20 PII entities.\n",
      "INFO: Detected 19 PII entities.\n",
      "INFO: Detected 63 PII entities.\n",
      "INFO: Detected 18 PII entities.\n",
      "INFO: Detected 16 PII entities.\n",
      "INFO: Detected 39 PII entities.\n",
      "INFO: Detected 35 PII entities.\n",
      "INFO: Detected 15 PII entities.\n",
      "INFO: Detected 20 PII entities.\n",
      "INFO: Detected 19 PII entities.\n",
      "INFO: Detected 79 PII entities.\n",
      "INFO: Detected 75 PII entities.\n",
      "INFO: Detected 20 PII entities.\n",
      "INFO: Detected 21 PII entities.\n",
      "INFO: Detected 19 PII entities.\n",
      "INFO: Detected 50 PII entities.\n",
      "INFO: Detected 19 PII entities.\n",
      "INFO: Detected 20 PII entities.\n",
      "INFO: Detected 35 PII entities.\n",
      "INFO: Detected 50 PII entities.\n",
      "INFO: Detected 26 PII entities.\n",
      "INFO: Detected 18 PII entities.\n",
      "INFO: Detected 31 PII entities.\n",
      "INFO: Detected 22 PII entities.\n",
      "INFO: Detected 29 PII entities.\n",
      "INFO: Detected 43 PII entities.\n",
      "INFO: Detected 40 PII entities.\n",
      "INFO: Detected 28 PII entities.\n",
      "INFO: Detected 17 PII entities.\n",
      "INFO: Detected 17 PII entities.\n",
      "INFO: Detected 33 PII entities.\n",
      "INFO: Detected 26 PII entities.\n",
      "INFO: Detected 19 PII entities.\n",
      "INFO: Detected 21 PII entities.\n",
      "INFO: Detected 67 PII entities.\n",
      "INFO: Detected 46 PII entities.\n",
      "INFO: Detected 34 PII entities.\n",
      "INFO: Detected 25 PII entities.\n",
      "INFO: Detected 33 PII entities.\n",
      "INFO: Detected 22 PII entities.\n",
      "INFO: Detected 32 PII entities.\n",
      "INFO: Detected 76 PII entities.\n",
      "INFO: Detected 77 PII entities.\n",
      "INFO: Detected 17 PII entities.\n",
      "INFO: Detected 77 PII entities.\n",
      "INFO: Detected 25 PII entities.\n",
      "INFO: Detected 14 PII entities.\n",
      "INFO: Detected 43 PII entities.\n",
      "INFO: Detected 62 PII entities.\n",
      "INFO: Detected 29 PII entities.\n",
      "INFO: Detected 32 PII entities.\n",
      "INFO: Detected 14 PII entities.\n",
      "INFO: Detected 37 PII entities.\n",
      "INFO: Detected 17 PII entities.\n",
      "INFO: Detected 10 PII entities.\n",
      "INFO: Detected 12 PII entities.\n",
      "INFO: Detected 14 PII entities.\n",
      "INFO: Detected 21 PII entities.\n",
      "INFO: Detected 35 PII entities.\n",
      "INFO: Detected 69 PII entities.\n",
      "INFO: Detected 59 PII entities.\n",
      "INFO: Detected 16 PII entities.\n",
      "INFO: Detected 86 PII entities.\n",
      "INFO: Detected 11 PII entities.\n",
      "INFO: Detected 14 PII entities.\n",
      "INFO: Detected 14 PII entities.\n",
      "INFO: Detected 19 PII entities.\n",
      "INFO: Detected 14 PII entities.\n",
      "INFO: Detected 21 PII entities.\n",
      "INFO: Detected 14 PII entities.\n",
      "INFO: Detected 14 PII entities.\n",
      "INFO: Detected 19 PII entities.\n",
      "INFO: Detected 19 PII entities.\n",
      "INFO: Detected 29 PII entities.\n",
      "INFO: Detected 45 PII entities.\n",
      "INFO: Detected 36 PII entities.\n",
      "INFO: Detected 36 PII entities.\n",
      "INFO: Detected 42 PII entities.\n",
      "INFO: Detected 48 PII entities.\n",
      "INFO: Detected 44 PII entities.\n",
      "INFO: Detected 61 PII entities.\n",
      "INFO: Detected 53 PII entities.\n",
      "INFO: Detected 45 PII entities.\n",
      "INFO: Detected 52 PII entities.\n",
      "INFO: Detected 68 PII entities.\n",
      "INFO: Detected 31 PII entities.\n",
      "INFO: Detected 44 PII entities.\n",
      "INFO: Detected 38 PII entities.\n",
      "INFO: Detected 26 PII entities.\n",
      "INFO: Detected 23 PII entities.\n",
      "INFO: Detected 33 PII entities.\n",
      "INFO: Detected 72 PII entities.\n",
      "INFO: Detected 24 PII entities.\n",
      "INFO: Detected 16 PII entities.\n",
      "INFO: Detected 55 PII entities.\n",
      "INFO: Detected 30 PII entities.\n",
      "INFO: Detected 16 PII entities.\n",
      "INFO: Detected 18 PII entities.\n",
      "INFO: Detected 34 PII entities.\n",
      "INFO: Detected 36 PII entities.\n",
      "INFO: Detected 24 PII entities.\n",
      "INFO: Detected 30 PII entities.\n",
      "INFO: Detected 23 PII entities.\n",
      "INFO: Detected 18 PII entities.\n",
      "INFO: Detected 45 PII entities.\n"
     ]
    },
    {
     "name": "stdout",
     "output_type": "stream",
     "text": [
      "PII detection completed and results saved to ./results/02_results_with_score.jsonl\n"
     ]
    }
   ],
   "source": [
    "output_path = \"./results/02_results_with_score.jsonl\" \n",
    "output_f = open(output_path, \"w\")\n",
    "\n",
    "output_data = {}\n",
    "for doc in X_test:\n",
    "    doc_id = doc[\"doc_id\"]\n",
    "    doc_text = doc[\"text\"]\n",
    "    entities = comp_detect.detect_pii(doc_text, \"en\")\n",
    "    result_item = {doc_id: entities}\n",
    "    output_f.write(json.dumps(result_item) + '\\n')\n",
    "    output_f.flush()\n",
    "output_f.close()\n",
    "\n",
    "print(f\"PII detection completed and results saved to {output_path}\")"
   ]
  },
  {
   "cell_type": "code",
   "execution_count": null,
   "id": "8d87f0fd-085b-49a4-86ed-01a815d17baa",
   "metadata": {},
   "outputs": [],
   "source": []
  }
 ],
 "metadata": {
  "kernelspec": {
   "display_name": ".venv",
   "language": "python",
   "name": ".venv"
  },
  "language_info": {
   "codemirror_mode": {
    "name": "ipython",
    "version": 3
   },
   "file_extension": ".py",
   "mimetype": "text/x-python",
   "name": "python",
   "nbconvert_exporter": "python",
   "pygments_lexer": "ipython3",
   "version": "3.8.10"
  }
 },
 "nbformat": 4,
 "nbformat_minor": 5
}
